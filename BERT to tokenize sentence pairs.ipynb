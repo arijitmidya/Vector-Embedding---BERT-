{
 "cells": [
  {
   "cell_type": "markdown",
   "metadata": {},
   "source": [
    "# BERT to tokenize sentence pairs\n",
    "\n",
    "BERT can also be used to tokenize a pair of text sequences, such as question-answer scenarios. The token_type_ids tensor helps in such scenarios to \n",
    "indicate which of the two text sequences each token belongs to:\n",
    "\n",
    "0 for the first sentence.\n",
    "\n",
    "1 for the second sentence.\n",
    "\n",
    "In the following code, the dataset consists of question/answer pairs. When we tokenize a question/answer pair with the BERT tokenizer, we see the two\n",
    "values in the token_type_ids tensor returned by the tokenizer. A value of 0 in the token_type_ids tensor indicates that the token belongs to the \n",
    "first text sequence in the pair, which is the question, and a value of 1 indicates that the token belongs to the second text sequence in the pair, \n",
    "which is the answer.\n"
   ]
  },
  {
   "cell_type": "code",
   "execution_count": 19,
   "metadata": {
    "id": "5oXUPmOoq_wh"
   },
   "outputs": [],
   "source": [
    "from transformers import BertTokenizer\n",
    "from nltk.tokenize import word_tokenize\n",
    "from nltk.corpus import stopwords\n",
    "from nltk.stem import WordNetLemmatizer\n",
    "import string"
   ]
  },
  {
   "cell_type": "code",
   "execution_count": 20,
   "metadata": {
    "colab": {
     "base_uri": "https://localhost:8080/"
    },
    "id": "yeoCjIQfyEHn",
    "outputId": "e70e861f-dfb5-477c-8bc9-d8c5c96bdff5"
   },
   "outputs": [
    {
     "name": "stdout",
     "output_type": "stream",
     "text": [
      "Orginal dataset:\n",
      " [['Question 1', 'Answer to question 1'], ['Question 2', 'Answer to question 2']]\n"
     ]
    }
   ],
   "source": [
    "Dataset = [[\"Question 1\", \"Answer to question 1\"],\n",
    " [\"Question 2\", \"Answer to question 2\"]\n",
    "           ]\n",
    "print(\"Orginal dataset:\\n\", Dataset)"
   ]
  },
  {
   "cell_type": "code",
   "execution_count": 21,
   "metadata": {
    "colab": {
     "base_uri": "https://localhost:8080/"
    },
    "id": "DVb8D5gayJAI",
    "outputId": "0f3f9709-f967-45b8-fb45-30e7b01b6415"
   },
   "outputs": [
    {
     "name": "stdout",
     "output_type": "stream",
     "text": [
      "Preprocessed dataset:\n",
      " [['question 1', 'answer question 1'], ['question 2', 'answer question 2']]\n"
     ]
    }
   ],
   "source": [
    "stop_words = set(stopwords.words('english'))\n",
    "lemmatizer = WordNetLemmatizer()\n",
    "\n",
    "def preprocess(text):\n",
    "    tokens = word_tokenize(text.lower())\n",
    "    tokens = [lemmatizer.lemmatize(token) for token in tokens if token not in stop_words and token not in string.punctuation]\n",
    "    return ' '.join(tokens)\n",
    "\n",
    "preprocessed_dataset = []\n",
    "for QApair in Dataset:\n",
    "  preprocessed_QApair = []\n",
    "  preprocessed_QApair.append(preprocess(QApair[0]))\n",
    "  preprocessed_QApair.append(preprocess(QApair[1]))\n",
    "  preprocessed_dataset.append(preprocessed_QApair)\n",
    "print(\"Preprocessed dataset:\\n\", preprocessed_dataset)"
   ]
  },
  {
   "cell_type": "code",
   "execution_count": 22,
   "metadata": {
    "colab": {
     "base_uri": "https://localhost:8080/"
    },
    "id": "jzM3i6CjyWMb",
    "outputId": "316d8f94-7713-472e-8f97-cb4f671d3f44"
   },
   "outputs": [
    {
     "name": "stderr",
     "output_type": "stream",
     "text": [
      "/usr/local/lib/python3.10/dist-packages/transformers/tokenization_utils_base.py:1601: FutureWarning: `clean_up_tokenization_spaces` was not set. It will be set to `True` by default. This behavior will be depracted in transformers v4.45, and will be then set to `False` by default. For more details check this issue: https://github.com/huggingface/transformers/issues/31884\n",
      "  warnings.warn(\n"
     ]
    }
   ],
   "source": [
    "tokenizer = BertTokenizer.from_pretrained('bert-base-uncased')\n",
    "model = BertModel.from_pretrained('bert-base-uncased')"
   ]
  },
  {
   "cell_type": "code",
   "execution_count": 23,
   "metadata": {
    "id": "rlH-9oPJykSt"
   },
   "outputs": [],
   "source": [
    "def generate_embedding(QApair):\n",
    "    print(\"Preprocessed QApair:\\n\", QApair)\n",
    "    inputs = tokenizer(QApair[0], QApair[1], return_tensors='pt')\n",
    "    bert_tokenized_text = tokenizer.convert_ids_to_tokens(inputs['input_ids'][0])\n",
    "    print(\"BERT tokens:\\n\", bert_tokenized_text)\n",
    "    print(\"BERT token_type_ids:\\n\", inputs['token_type_ids'])"
   ]
  },
  {
   "cell_type": "code",
   "execution_count": 24,
   "metadata": {
    "colab": {
     "base_uri": "https://localhost:8080/"
    },
    "id": "4k-VXCQnyp1C",
    "outputId": "ab862047-0cfc-41ac-ed30-f8645eea4b35"
   },
   "outputs": [
    {
     "name": "stdout",
     "output_type": "stream",
     "text": [
      "Preprocessed QApair:\n",
      " ['question 1', 'answer question 1']\n",
      "BERT tokens:\n",
      " ['[CLS]', 'question', '1', '[SEP]', 'answer', 'question', '1', '[SEP]']\n",
      "BERT token_type_ids:\n",
      " tensor([[0, 0, 0, 0, 1, 1, 1, 1]])\n",
      "Preprocessed QApair:\n",
      " ['question 2', 'answer question 2']\n",
      "BERT tokens:\n",
      " ['[CLS]', 'question', '2', '[SEP]', 'answer', 'question', '2', '[SEP]']\n",
      "BERT token_type_ids:\n",
      " tensor([[0, 0, 0, 0, 1, 1, 1, 1]])\n"
     ]
    }
   ],
   "source": [
    "for QApair in preprocessed_dataset:\n",
    "  QApair_individual_word_embeddings = generate_embedding(QApair)"
   ]
  },
  {
   "cell_type": "code",
   "execution_count": null,
   "metadata": {
    "id": "KoG0HBvdywTc"
   },
   "outputs": [],
   "source": []
  }
 ],
 "metadata": {
  "colab": {
   "provenance": []
  },
  "kernelspec": {
   "display_name": "Python 3 (ipykernel)",
   "language": "python",
   "name": "python3"
  },
  "language_info": {
   "codemirror_mode": {
    "name": "ipython",
    "version": 3
   },
   "file_extension": ".py",
   "mimetype": "text/x-python",
   "name": "python",
   "nbconvert_exporter": "python",
   "pygments_lexer": "ipython3",
   "version": "3.11.7"
  }
 },
 "nbformat": 4,
 "nbformat_minor": 4
}
