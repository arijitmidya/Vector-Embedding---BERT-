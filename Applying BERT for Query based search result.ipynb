{
 "cells": [
  {
   "cell_type": "markdown",
   "metadata": {},
   "source": [
    "# Applying BERT for Query based result search"
   ]
  },
  {
   "cell_type": "markdown",
   "metadata": {},
   "source": [
    "### Step1 : Import necessary libraries\n",
    "\n",
    "To generate embeddings, we begin by importing the necessary libraries: numpy, pandas, torch, transformers, sklearn.metrics.pairwise, nltk.tokenize, \n",
    "nltk.corpus, and nltk.stem. These libraries are essential for data processing, deep learning, and similarity computation.\n"
   ]
  },
  {
   "cell_type": "code",
   "execution_count": 1,
   "metadata": {},
   "outputs": [],
   "source": [
    "import numpy as np\n",
    "import pandas as pd\n",
    "import torch\n",
    "from transformers import BertTokenizer, BertModel\n",
    "from sklearn.metrics.pairwise import cosine_similarity\n",
    "from nltk.tokenize import word_tokenize\n",
    "from nltk.corpus import stopwords\n",
    "from nltk.stem import WordNetLemmatizer\n",
    "import string\n",
    "import warnings\n",
    "warnings.filterwarnings('ignore')"
   ]
  },
  {
   "cell_type": "markdown",
   "metadata": {},
   "source": [
    "### Step2 : Load and visualize the dataset"
   ]
  },
  {
   "cell_type": "code",
   "execution_count": 2,
   "metadata": {},
   "outputs": [],
   "source": [
    "# Load dataset from CSV file\n",
    "df = pd.read_csv(\"/usr/local/datasetsDir/text-dataset/job_title_des.csv\")\n",
    "\n",
    "# Read only the first twenty job descriptions\n",
    "df = df.head(20)"
   ]
  },
  {
   "cell_type": "code",
   "execution_count": 3,
   "metadata": {},
   "outputs": [
    {
     "data": {
      "text/html": [
       "<div>\n",
       "<style scoped>\n",
       "    .dataframe tbody tr th:only-of-type {\n",
       "        vertical-align: middle;\n",
       "    }\n",
       "\n",
       "    .dataframe tbody tr th {\n",
       "        vertical-align: top;\n",
       "    }\n",
       "\n",
       "    .dataframe thead th {\n",
       "        text-align: right;\n",
       "    }\n",
       "</style>\n",
       "<table border=\"1\" class=\"dataframe\">\n",
       "  <thead>\n",
       "    <tr style=\"text-align: right;\">\n",
       "      <th></th>\n",
       "      <th>Unnamed: 0</th>\n",
       "      <th>Job Title</th>\n",
       "      <th>Job Description</th>\n",
       "    </tr>\n",
       "  </thead>\n",
       "  <tbody>\n",
       "    <tr>\n",
       "      <th>0</th>\n",
       "      <td>0</td>\n",
       "      <td>Flutter Developer</td>\n",
       "      <td>We are looking for hire experts flutter develo...</td>\n",
       "    </tr>\n",
       "    <tr>\n",
       "      <th>1</th>\n",
       "      <td>1</td>\n",
       "      <td>Django Developer</td>\n",
       "      <td>PYTHON/DJANGO (Developer/Lead) - Job Code(PDJ ...</td>\n",
       "    </tr>\n",
       "    <tr>\n",
       "      <th>2</th>\n",
       "      <td>2</td>\n",
       "      <td>Machine Learning</td>\n",
       "      <td>Data Scientist (Contractor)\\n\\nBangalore, IN\\n...</td>\n",
       "    </tr>\n",
       "    <tr>\n",
       "      <th>3</th>\n",
       "      <td>3</td>\n",
       "      <td>iOS Developer</td>\n",
       "      <td>JOB DESCRIPTION:\\n\\nStrong framework outside o...</td>\n",
       "    </tr>\n",
       "    <tr>\n",
       "      <th>4</th>\n",
       "      <td>4</td>\n",
       "      <td>Full Stack Developer</td>\n",
       "      <td>job responsibility full stack engineer – react...</td>\n",
       "    </tr>\n",
       "    <tr>\n",
       "      <th>5</th>\n",
       "      <td>5</td>\n",
       "      <td>Java Developer</td>\n",
       "      <td>Software Developer - Integration*\\nImmediate O...</td>\n",
       "    </tr>\n",
       "    <tr>\n",
       "      <th>6</th>\n",
       "      <td>6</td>\n",
       "      <td>Full Stack Developer</td>\n",
       "      <td>senior full stack developer \\- 1800026h cwt lo...</td>\n",
       "    </tr>\n",
       "    <tr>\n",
       "      <th>7</th>\n",
       "      <td>7</td>\n",
       "      <td>JavaScript Developer</td>\n",
       "      <td>Job Description:\\n\\nReactJS + NodeJs, Azure Fu...</td>\n",
       "    </tr>\n",
       "    <tr>\n",
       "      <th>8</th>\n",
       "      <td>8</td>\n",
       "      <td>DevOps Engineer</td>\n",
       "      <td>Main Responsibilities and Deliverables:\\nManag...</td>\n",
       "    </tr>\n",
       "    <tr>\n",
       "      <th>9</th>\n",
       "      <td>9</td>\n",
       "      <td>Software Engineer</td>\n",
       "      <td>Overview\\n\\n\\nBased in Silicon Valley, Tintri ...</td>\n",
       "    </tr>\n",
       "    <tr>\n",
       "      <th>10</th>\n",
       "      <td>10</td>\n",
       "      <td>Database Administrator</td>\n",
       "      <td>richardsontexasunited state bausp4 boeing comp...</td>\n",
       "    </tr>\n",
       "    <tr>\n",
       "      <th>11</th>\n",
       "      <td>11</td>\n",
       "      <td>Machine Learning</td>\n",
       "      <td>Remote, Any where\\n2 - 4 years\\n₹8L - ₹12L / y...</td>\n",
       "    </tr>\n",
       "    <tr>\n",
       "      <th>12</th>\n",
       "      <td>12</td>\n",
       "      <td>Machine Learning</td>\n",
       "      <td>Excited by Big Data, Machine Learning and Pred...</td>\n",
       "    </tr>\n",
       "    <tr>\n",
       "      <th>13</th>\n",
       "      <td>13</td>\n",
       "      <td>Software Engineer</td>\n",
       "      <td>As a member of our Software Engineering Group ...</td>\n",
       "    </tr>\n",
       "    <tr>\n",
       "      <th>14</th>\n",
       "      <td>14</td>\n",
       "      <td>Software Engineer</td>\n",
       "      <td>JOB DESCRIPTION\\n\\nJob Title: Software Enginee...</td>\n",
       "    </tr>\n",
       "    <tr>\n",
       "      <th>15</th>\n",
       "      <td>15</td>\n",
       "      <td>Java Developer</td>\n",
       "      <td>Overview:\\n\\nWestern National is seeking a hig...</td>\n",
       "    </tr>\n",
       "    <tr>\n",
       "      <th>16</th>\n",
       "      <td>16</td>\n",
       "      <td>Wordpress Developer</td>\n",
       "      <td>Experience: 2-5 years\\n\\nJob Location:- Aurang...</td>\n",
       "    </tr>\n",
       "    <tr>\n",
       "      <th>17</th>\n",
       "      <td>17</td>\n",
       "      <td>iOS Developer</td>\n",
       "      <td>Job Code : ID190704\\n\\nJob Description:\\nExper...</td>\n",
       "    </tr>\n",
       "    <tr>\n",
       "      <th>18</th>\n",
       "      <td>18</td>\n",
       "      <td>Database Administrator</td>\n",
       "      <td>job description summary highly skilled technic...</td>\n",
       "    </tr>\n",
       "    <tr>\n",
       "      <th>19</th>\n",
       "      <td>20</td>\n",
       "      <td>DevOps Engineer</td>\n",
       "      <td>Job Summary\\n\\nOur mission at Style Theory is ...</td>\n",
       "    </tr>\n",
       "  </tbody>\n",
       "</table>\n",
       "</div>"
      ],
      "text/plain": [
       "    Unnamed: 0               Job Title  \\\n",
       "0            0       Flutter Developer   \n",
       "1            1        Django Developer   \n",
       "2            2        Machine Learning   \n",
       "3            3           iOS Developer   \n",
       "4            4    Full Stack Developer   \n",
       "5            5          Java Developer   \n",
       "6            6    Full Stack Developer   \n",
       "7            7    JavaScript Developer   \n",
       "8            8         DevOps Engineer   \n",
       "9            9       Software Engineer   \n",
       "10          10  Database Administrator   \n",
       "11          11        Machine Learning   \n",
       "12          12        Machine Learning   \n",
       "13          13       Software Engineer   \n",
       "14          14       Software Engineer   \n",
       "15          15          Java Developer   \n",
       "16          16     Wordpress Developer   \n",
       "17          17           iOS Developer   \n",
       "18          18  Database Administrator   \n",
       "19          20         DevOps Engineer   \n",
       "\n",
       "                                      Job Description  \n",
       "0   We are looking for hire experts flutter develo...  \n",
       "1   PYTHON/DJANGO (Developer/Lead) - Job Code(PDJ ...  \n",
       "2   Data Scientist (Contractor)\\n\\nBangalore, IN\\n...  \n",
       "3   JOB DESCRIPTION:\\n\\nStrong framework outside o...  \n",
       "4   job responsibility full stack engineer – react...  \n",
       "5   Software Developer - Integration*\\nImmediate O...  \n",
       "6   senior full stack developer \\- 1800026h cwt lo...  \n",
       "7   Job Description:\\n\\nReactJS + NodeJs, Azure Fu...  \n",
       "8   Main Responsibilities and Deliverables:\\nManag...  \n",
       "9   Overview\\n\\n\\nBased in Silicon Valley, Tintri ...  \n",
       "10  richardsontexasunited state bausp4 boeing comp...  \n",
       "11  Remote, Any where\\n2 - 4 years\\n₹8L - ₹12L / y...  \n",
       "12  Excited by Big Data, Machine Learning and Pred...  \n",
       "13  As a member of our Software Engineering Group ...  \n",
       "14  JOB DESCRIPTION\\n\\nJob Title: Software Enginee...  \n",
       "15  Overview:\\n\\nWestern National is seeking a hig...  \n",
       "16  Experience: 2-5 years\\n\\nJob Location:- Aurang...  \n",
       "17  Job Code : ID190704\\n\\nJob Description:\\nExper...  \n",
       "18  job description summary highly skilled technic...  \n",
       "19  Job Summary\\n\\nOur mission at Style Theory is ...  "
      ]
     },
     "execution_count": 3,
     "metadata": {},
     "output_type": "execute_result"
    }
   ],
   "source": [
    "df"
   ]
  },
  {
   "cell_type": "markdown",
   "metadata": {},
   "source": [
    "### Step3 : After loading the dataset, we preprocess the text data by tokenizing, removing stopwords, punctuation, and lemmatizing."
   ]
  },
  {
   "cell_type": "code",
   "execution_count": 4,
   "metadata": {},
   "outputs": [],
   "source": [
    "# Preprocess text data\n",
    "stop_words = set(stopwords.words('english'))\n",
    "lemmatizer = WordNetLemmatizer()"
   ]
  },
  {
   "cell_type": "code",
   "execution_count": 5,
   "metadata": {},
   "outputs": [],
   "source": [
    "def preprocess(text):\n",
    "    tokens = word_tokenize(text.lower())\n",
    "    tokens = [lemmatizer.lemmatize(token) for token in tokens if token not in stop_words and token not in string.punctuation]\n",
    "    return ' '.join(tokens)\n",
    "\n",
    "df['processed_description'] = df['Job Description'].apply(preprocess)"
   ]
  },
  {
   "cell_type": "code",
   "execution_count": 6,
   "metadata": {},
   "outputs": [
    {
     "data": {
      "text/html": [
       "<div>\n",
       "<style scoped>\n",
       "    .dataframe tbody tr th:only-of-type {\n",
       "        vertical-align: middle;\n",
       "    }\n",
       "\n",
       "    .dataframe tbody tr th {\n",
       "        vertical-align: top;\n",
       "    }\n",
       "\n",
       "    .dataframe thead th {\n",
       "        text-align: right;\n",
       "    }\n",
       "</style>\n",
       "<table border=\"1\" class=\"dataframe\">\n",
       "  <thead>\n",
       "    <tr style=\"text-align: right;\">\n",
       "      <th></th>\n",
       "      <th>Unnamed: 0</th>\n",
       "      <th>Job Title</th>\n",
       "      <th>Job Description</th>\n",
       "      <th>processed_description</th>\n",
       "    </tr>\n",
       "  </thead>\n",
       "  <tbody>\n",
       "    <tr>\n",
       "      <th>0</th>\n",
       "      <td>0</td>\n",
       "      <td>Flutter Developer</td>\n",
       "      <td>We are looking for hire experts flutter develo...</td>\n",
       "      <td>looking hire expert flutter developer eligible...</td>\n",
       "    </tr>\n",
       "    <tr>\n",
       "      <th>1</th>\n",
       "      <td>1</td>\n",
       "      <td>Django Developer</td>\n",
       "      <td>PYTHON/DJANGO (Developer/Lead) - Job Code(PDJ ...</td>\n",
       "      <td>python/django developer/lead job code pdj 04 s...</td>\n",
       "    </tr>\n",
       "    <tr>\n",
       "      <th>2</th>\n",
       "      <td>2</td>\n",
       "      <td>Machine Learning</td>\n",
       "      <td>Data Scientist (Contractor)\\n\\nBangalore, IN\\n...</td>\n",
       "      <td>data scientist contractor bangalore responsibi...</td>\n",
       "    </tr>\n",
       "    <tr>\n",
       "      <th>3</th>\n",
       "      <td>3</td>\n",
       "      <td>iOS Developer</td>\n",
       "      <td>JOB DESCRIPTION:\\n\\nStrong framework outside o...</td>\n",
       "      <td>job description strong framework outside io al...</td>\n",
       "    </tr>\n",
       "    <tr>\n",
       "      <th>4</th>\n",
       "      <td>4</td>\n",
       "      <td>Full Stack Developer</td>\n",
       "      <td>job responsibility full stack engineer – react...</td>\n",
       "      <td>job responsibility full stack engineer – react...</td>\n",
       "    </tr>\n",
       "  </tbody>\n",
       "</table>\n",
       "</div>"
      ],
      "text/plain": [
       "   Unnamed: 0             Job Title  \\\n",
       "0           0     Flutter Developer   \n",
       "1           1      Django Developer   \n",
       "2           2      Machine Learning   \n",
       "3           3         iOS Developer   \n",
       "4           4  Full Stack Developer   \n",
       "\n",
       "                                     Job Description  \\\n",
       "0  We are looking for hire experts flutter develo...   \n",
       "1  PYTHON/DJANGO (Developer/Lead) - Job Code(PDJ ...   \n",
       "2  Data Scientist (Contractor)\\n\\nBangalore, IN\\n...   \n",
       "3  JOB DESCRIPTION:\\n\\nStrong framework outside o...   \n",
       "4  job responsibility full stack engineer – react...   \n",
       "\n",
       "                               processed_description  \n",
       "0  looking hire expert flutter developer eligible...  \n",
       "1  python/django developer/lead job code pdj 04 s...  \n",
       "2  data scientist contractor bangalore responsibi...  \n",
       "3  job description strong framework outside io al...  \n",
       "4  job responsibility full stack engineer – react...  "
      ]
     },
     "execution_count": 6,
     "metadata": {},
     "output_type": "execute_result"
    }
   ],
   "source": [
    "df.head()"
   ]
  },
  {
   "cell_type": "markdown",
   "metadata": {},
   "source": [
    "### Step4 : we load a pretrained BERT tokenizer and model."
   ]
  },
  {
   "cell_type": "code",
   "execution_count": 7,
   "metadata": {},
   "outputs": [
    {
     "data": {
      "application/vnd.jupyter.widget-view+json": {
       "model_id": "0c94ddaf3b764dda95843733eb26e1f1",
       "version_major": 2,
       "version_minor": 0
      },
      "text/plain": [
       "tokenizer_config.json:   0%|          | 0.00/48.0 [00:00<?, ?B/s]"
      ]
     },
     "metadata": {},
     "output_type": "display_data"
    },
    {
     "data": {
      "application/vnd.jupyter.widget-view+json": {
       "model_id": "d83190615b544b08b6c20d36c63afbf3",
       "version_major": 2,
       "version_minor": 0
      },
      "text/plain": [
       "vocab.txt:   0%|          | 0.00/232k [00:00<?, ?B/s]"
      ]
     },
     "metadata": {},
     "output_type": "display_data"
    },
    {
     "data": {
      "application/vnd.jupyter.widget-view+json": {
       "model_id": "098ab72faf6e44858bfd254da03c7575",
       "version_major": 2,
       "version_minor": 0
      },
      "text/plain": [
       "tokenizer.json:   0%|          | 0.00/466k [00:00<?, ?B/s]"
      ]
     },
     "metadata": {},
     "output_type": "display_data"
    },
    {
     "data": {
      "application/vnd.jupyter.widget-view+json": {
       "model_id": "00f698f004714d0ba2d093c9f1bf8357",
       "version_major": 2,
       "version_minor": 0
      },
      "text/plain": [
       "config.json:   0%|          | 0.00/570 [00:00<?, ?B/s]"
      ]
     },
     "metadata": {},
     "output_type": "display_data"
    },
    {
     "data": {
      "application/vnd.jupyter.widget-view+json": {
       "model_id": "ed824b529453439db3364f0e0b82b574",
       "version_major": 2,
       "version_minor": 0
      },
      "text/plain": [
       "model.safetensors:   0%|          | 0.00/440M [00:00<?, ?B/s]"
      ]
     },
     "metadata": {},
     "output_type": "display_data"
    }
   ],
   "source": [
    "# Load pretrained BERT tokenizer and model\n",
    "\n",
    "tokenizer = BertTokenizer.from_pretrained('bert-base-uncased')\n",
    "model = BertModel.from_pretrained('bert-base-uncased')"
   ]
  },
  {
   "cell_type": "markdown",
   "metadata": {},
   "source": [
    "### Step5 : Define the embedding function\n",
    "\n",
    "write a function generate_embedding to generate BERT embeddings for each word in the dataset after preprocessing. It tokenizes the job description \n",
    "text, feeds it to BERT, and extracts embedding for it using the [CLS] token embedding.\n",
    "\n",
    "While doing tokenization, we need to set the truncation parameter to True as long descriptions will result in generating an error that the token \n",
    "index sequence length is longer than the specified maximum sequence length for this model, which is 512. Running such a sequence through the model\n",
    "will result in indexing errors. Setting this parameter will truncate the sequences larger than the maximum sequence length the model allows.\n",
    "   "
   ]
  },
  {
   "cell_type": "code",
   "execution_count": 8,
   "metadata": {},
   "outputs": [],
   "source": [
    "# Function to generate BERT embedding for a text using [CLS] token\n",
    "\n",
    "def generate_embedding(text):\n",
    "    inputs = tokenizer(text, return_tensors='pt', truncation=True)\n",
    "    with torch.no_grad():\n",
    "        outputs = model(**inputs)\n",
    "    cls_embedding = outputs.last_hidden_state[:, 0, :]  # Extract [CLS] token embedding\n",
    "    return cls_embedding.numpy()"
   ]
  },
  {
   "cell_type": "markdown",
   "metadata": {},
   "source": [
    "### Step6 : Define the similarity function\n",
    "\n",
    "Define a function, semantic_search, for performing a semantic search using BERT embeddings. It computes cosine similarity between the \n",
    "query embedding and embeddings of job descriptions to find the most similar jobs.\n",
    "\n",
    "we access the cosine similarity value at the index [0][0]. This is because both query_embedding and desc_embedding are of shape [1, hidden_size].\n",
    "When we compute cosine_similarity between them, the result is a similarity matrix of shape [1, 1], containing a single similarity score.\n",
    "Accessing [0][0] retrieves this single value.\n"
   ]
  },
  {
   "cell_type": "code",
   "execution_count": 9,
   "metadata": {},
   "outputs": [],
   "source": [
    "# Function for semantic search\n",
    "\n",
    "def semantic_search(query, top_n=3):\n",
    "    query_embedding = generate_embedding(query)\n",
    "    similarities = []\n",
    "    for idx, row in df.iterrows():\n",
    "        desc_embedding = generate_embedding(row['processed_description'])\n",
    "        similarity = cosine_similarity(query_embedding, desc_embedding)[0][0]\n",
    "        similarities.append((row['Job Title'], similarity, row['Job Description']))\n",
    "    similarities.sort(key=lambda x: x[1], reverse=True)\n",
    "    return similarities[:top_n]"
   ]
  },
  {
   "cell_type": "markdown",
   "metadata": {},
   "source": [
    "### Step7 : Example usage"
   ]
  },
  {
   "cell_type": "code",
   "execution_count": 10,
   "metadata": {},
   "outputs": [
    {
     "name": "stdout",
     "output_type": "stream",
     "text": [
      "Title: Django Developer, Similarity: 0.86\n",
      "Title: DevOps Engineer, Similarity: 0.82\n",
      "Title: iOS Developer, Similarity: 0.81\n"
     ]
    }
   ],
   "source": [
    "# Example usage\n",
    "\n",
    "query = \"python developer with experience in web development\"\n",
    "results = semantic_search(query)\n",
    "for title, similarity, description in results:\n",
    "    print(f\"Title: {title}, Similarity: {similarity:.2f}\")"
   ]
  }
 ],
 "metadata": {
  "colab": {
   "provenance": []
  },
  "kernelspec": {
   "display_name": "Python 3 (ipykernel)",
   "language": "python",
   "name": "python3"
  },
  "language_info": {
   "codemirror_mode": {
    "name": "ipython",
    "version": 3
   },
   "file_extension": ".py",
   "mimetype": "text/x-python",
   "name": "python",
   "nbconvert_exporter": "python",
   "pygments_lexer": "ipython3",
   "version": "3.11.7"
  }
 },
 "nbformat": 4,
 "nbformat_minor": 4
}
